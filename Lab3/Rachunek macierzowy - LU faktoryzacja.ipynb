{
 "cells": [
  {
   "cell_type": "markdown",
   "id": "4a569735",
   "metadata": {},
   "source": [
    "# Rachunek macierzowy - LU faktoryzacja\n",
    "\n",
    "**Wykonali: Alicja Niewiadomska, Paweł Kruczkiewicz**\n"
   ]
  },
  {
   "cell_type": "code",
   "execution_count": 58,
   "id": "e1e316d1",
   "metadata": {},
   "outputs": [],
   "source": [
    "import numpy as np\n",
    "import matplotlib.pyplot as plt\n",
    "import time\n",
    "\n",
    "import warnings\n",
    "warnings.filterwarnings(\"ignore\")"
   ]
  },
  {
   "cell_type": "markdown",
   "id": "180c63e4",
   "metadata": {},
   "source": [
    "## Pseudokod rozwiązania\n",
    "\n",
    "Zakładamy, że dana macierz ma wymiary 2^k x 2^k.\n",
    "\n",
    "Dane: \n",
    "  - `A` - macierz kwadratowe o rozmiarze 2^k\n",
    "  - `k` - wyżej wspomniany wykładnik\n",
    "  \n",
    "Wartość zwracana: \n",
    "   `L` - wynikowa macierz kwadratowa o rozmiarze 2^k\n",
    "   `U` - wynikowa macierz kwadratowa o rozmiarze 2^k\n",
    "```\n",
    "\n",
    "def LU_rec(A, k):\n",
    "    if k == 0: return [1], A\n",
    "\n",
    "    A11, A12, A21, A22 = split_matrix_in_quatres(A)\n",
    "    mat_mul = lambda M, N: mat_mul(M, N, k, 4)\n",
    "    \n",
    "    L11, U11 = LU_rec(A11, k-1)\n",
    "    L11_inv = inverse(L11, k-1)\n",
    "    U11_inv = inverse(U11, k-1)\n",
    "    \n",
    "    L21 = mat_mul(A21, U11_inv)\n",
    "    U12 = mat_mul(L11_inv, A12)\n",
    "    \n",
    "    S = A22 - mat_mul(mat_mul(mat_mul(A21, U11_inv), L11_inv), A12)\n",
    "    Ls, Us = LU_rec(S, k-1)\n",
    "       \n",
    "    L22 - Ls\n",
    "    U22 = Us\n",
    "    \n",
    "    L = join_matrices(L11, np.zeros(L11.shape), L21, L22)\n",
    "    U = join_matrices(U11, U12, np.zeros(U11.shape), U22)\n",
    "\n",
    "    return L, U\n",
    "```\n",
    "\n",
    "gdzie operacje `mat_mul` oraz `inverse` definiujemy tak jak w poprzednich zadaniach."
   ]
  },
  {
   "cell_type": "markdown",
   "id": "13192b09",
   "metadata": {},
   "source": [
    "## Kod algorytmu\n",
    "\n",
    "### Funkcje pomocnicze"
   ]
  },
  {
   "cell_type": "code",
   "execution_count": 59,
   "id": "4ca9e07d",
   "metadata": {},
   "outputs": [],
   "source": [
    "def split_matrix_in_quatres(A: np.array):\n",
    "    half_i = A.shape[0] // 2\n",
    "    return  A[:half_i, :half_i], \\\n",
    "            A[:half_i, half_i:], \\\n",
    "            A[half_i:, :half_i],\\\n",
    "            A[half_i:, half_i:]\n",
    "            \n",
    "def join_matrices(A11, A12, A21, A22):\n",
    "    A1 = np.hstack((A11, A12))\n",
    "    A2 = np.hstack((A21, A22))\n",
    "    return np.vstack((A1, A2))"
   ]
  },
  {
   "cell_type": "markdown",
   "id": "b49643ad",
   "metadata": {},
   "source": [
    "### Algorytm rekurencyjny Bineta"
   ]
  },
  {
   "cell_type": "code",
   "execution_count": 60,
   "id": "a59ee13f",
   "metadata": {},
   "outputs": [],
   "source": [
    "def binet_rec_mat_mul(A: np.array, B: np.array, k: int, l: int) -> np.array:\n",
    "    if k == 0:\n",
    "        return A*B\n",
    "    \n",
    "    rec_step = lambda A1, B1, A2, B2: mat_mul(A1, B1, k-1, l) + mat_mul(A2, B2, k-1, l)\n",
    "\n",
    "    A11, A12, A21, A22 = split_matrix_in_quatres(A)\n",
    "    B11, B12, B21, B22 = split_matrix_in_quatres(B)\n",
    "    \n",
    "    C11 = rec_step(A11, B11, A12, B21)\n",
    "    C12 = rec_step(A11, B12, A12, B22)\n",
    "    C21 = rec_step(A21, B11, A22, B21)\n",
    "    C22 = rec_step(A21, B12, A22, B22)\n",
    "    \n",
    "    return join_matrices(C11, C12, C21, C22)"
   ]
  },
  {
   "cell_type": "markdown",
   "id": "124bf4e9",
   "metadata": {},
   "source": [
    "### Algorytm rekurencyjny Strassena"
   ]
  },
  {
   "cell_type": "code",
   "execution_count": 61,
   "id": "db214ba0",
   "metadata": {},
   "outputs": [],
   "source": [
    "def strassen_mat_mul(A: np.array, B: np.array, k: int, l: int) -> np.array:    \n",
    "    if k == 0:\n",
    "        return A*B\n",
    "    \n",
    "    rec_step = lambda A1, B1: mat_mul(A1, B1, k-1, l)\n",
    "\n",
    "    A11, A12, A21, A22 = split_matrix_in_quatres(A)\n",
    "    B11, B12, B21, B22 = split_matrix_in_quatres(B)\n",
    "\n",
    "    M1 = rec_step(A11 + A22, B11 + B22)\n",
    "    M2 = rec_step(A21 + A22, B11)\n",
    "    M3 = rec_step(A11, B12 - B22)\n",
    "    M4 = rec_step(A22, B21 - B11)\n",
    "    M5 = rec_step(A11 + A12, B22)\n",
    "    M6 = rec_step(A21 - A11, B11 + B12)\n",
    "    M7 = rec_step(A12 - A22, B21 + B22)\n",
    "\n",
    "    C11 = M1 + M4 - M5 + M7\n",
    "    C12 = M3 + M5\n",
    "    C21 = M2 + M4\n",
    "    C22 = M1 - M2 + M3 + M6\n",
    "    \n",
    "    return join_matrices(C11, C12, C21, C22)"
   ]
  },
  {
   "cell_type": "markdown",
   "id": "006816f3",
   "metadata": {},
   "source": [
    "### Algorytm mnożenia macierzy z poprzedniego zadania"
   ]
  },
  {
   "cell_type": "code",
   "execution_count": 62,
   "id": "4a26f4da",
   "metadata": {},
   "outputs": [],
   "source": [
    "def mat_mul(A, B, k, l=4):\n",
    "    if k <= l:\n",
    "        return binet_rec_mat_mul(A, B, k, l)\n",
    "    else:\n",
    "        return strassen_mat_mul(A, B, k, l)"
   ]
  },
  {
   "cell_type": "markdown",
   "id": "d225d9a2",
   "metadata": {},
   "source": [
    "### Algorytm rekurencyjnego odwracania macierzy"
   ]
  },
  {
   "cell_type": "code",
   "execution_count": 63,
   "id": "65ace159",
   "metadata": {},
   "outputs": [],
   "source": [
    "L = 4\n",
    "\n",
    "def inverse(A, k):\n",
    "    if k == 0: \n",
    "        return A\n",
    "\n",
    "    A11, A12, A21, A22 = split_matrix_in_quatres(A)\n",
    "    mul = lambda M, N: mat_mul(M, N, k-1, L)\n",
    "\n",
    "    A11_inv = inverse(A11, k-1)\n",
    "    S22 = A22 - mul(mul(A21, A11_inv), A12)\n",
    "    S22_inv = inverse(S22, k-1)\n",
    "\n",
    "    B11 = mul(A11_inv, (np.ones(2**(k-1)) + mul(mul(A12, S22_inv), mul(A21, A11_inv))))\n",
    "    B12 = - mul(mul(A11_inv, A12), S22_inv)\n",
    "    B21 = - mul(mul(S22_inv, A21), A11_inv)\n",
    "    B22 = S22_inv\n",
    "\n",
    "    return join_matrices(B11, B12, B21, B22)"
   ]
  },
  {
   "cell_type": "markdown",
   "id": "a033007b",
   "metadata": {},
   "source": [
    "### Algorytm rekurencyjnej LU faktoryzacji"
   ]
  },
  {
   "cell_type": "code",
   "execution_count": 64,
   "id": "e15b4bc7",
   "metadata": {},
   "outputs": [],
   "source": [
    "def LU_rec(A, k):\n",
    "    n = A.shape[0]\n",
    "    if n == 1:\n",
    "        return np.array([[1]]), A\n",
    "    \n",
    "    A11, A12, A21, A22 = split_matrix_in_quatres(A)\n",
    "    mul = lambda M, N: mat_mul(M, N, k-1, 4)\n",
    "    \n",
    "    L11, U11 = LU_rec(A11, k-1)\n",
    "\n",
    "    L11_inv = inverse(L11, k-1)\n",
    "    U11_inv = inverse(U11, k-1)\n",
    "    \n",
    "    L21 = mul(A21, U11_inv)\n",
    "    U12 = mul(L11_inv, A12)\n",
    "    \n",
    "    S = A22 - mul(mul(mul(A21, U11_inv), L11_inv), A12)\n",
    "    Ls, Us = LU_rec(S, k-1)\n",
    "    \n",
    "    U22 = Us\n",
    "    L22 = Ls\n",
    "    \n",
    "    L = join_matrices(L11, np.zeros(L11.shape), L21, L22)\n",
    "    U = join_matrices(U11, U12, np.zeros(U11.shape), U22)\n",
    "    \n",
    "    return L, U"
   ]
  },
  {
   "cell_type": "markdown",
   "id": "50c0fcdf",
   "metadata": {},
   "source": [
    "## Wykresy"
   ]
  },
  {
   "cell_type": "code",
   "execution_count": 65,
   "id": "adfc66cd",
   "metadata": {},
   "outputs": [],
   "source": [
    "plt.rcParams[\"figure.figsize\"] = [15, 10]\n",
    "plt.rcParams['font.size'] = 24\n",
    "plt.style.use('fivethirtyeight')"
   ]
  },
  {
   "cell_type": "markdown",
   "id": "da1e0d1c",
   "metadata": {},
   "source": [
    "### Wykres czasu mnożenia od wielkości macierzy `A`"
   ]
  },
  {
   "cell_type": "code",
   "execution_count": 66,
   "id": "ef41dca5",
   "metadata": {},
   "outputs": [],
   "source": [
    "k_values = np.arange(2, 9)\n",
    "num_range = 100\n",
    "\n",
    "### kod generujący czas\n",
    "\n",
    "def measure_LU_times() -> np.array:\n",
    "    def measure_one_time(k):\n",
    "        size = 2**k\n",
    "        A = np.random.randint(0, num_range, (size, size))\n",
    "        \n",
    "        t1 = time.time()\n",
    "        LU_rec(A, k)\n",
    "        t2 = time.time()\n",
    "        return t2 - t1\n",
    "    \n",
    "    return np.array([measure_one_time(k) for k in k_values])\n",
    "\n",
    "### kod wykresu\n",
    "\n",
    "def plot_time_results(times: np.array) -> None:\n",
    "    x = k_values\n",
    "    x_axis = np.arange(len(x))\n",
    "    \n",
    "    plt.bar(x_axis + 0.1, times, 0.1)\n",
    "\n",
    "    plt.xticks(x_axis, x)\n",
    "    plt.xlabel(\"k (matrix size 2^k)\")\n",
    "    plt.ylabel(\"Time in log scale [s]\")\n",
    "    plt.yscale(\"log\")\n",
    "    plt.title(\"Matrix LU factorization performance\")\n",
    "    plt.show()"
   ]
  },
  {
   "cell_type": "code",
   "execution_count": 67,
   "id": "ea9b95b8",
   "metadata": {},
   "outputs": [
    {
     "data": {
      "image/png": "[encoded data removed]",
      "text/plain": [
       "<Figure size 1080x720 with 1 Axes>"
      ]
     },
     "metadata": {},
     "output_type": "display_data"
    }
   ],
   "source": [
    "times = measure_LU_times()\n",
    "plot_time_results(times.T)"
   ]
  },
  {
   "cell_type": "markdown",
   "id": "eed69e87",
   "metadata": {},
   "source": [
    "Powyższy wykres jasno pokazuje, że złożoność obliczeniowa stworzonego algorytmu jest odpowiednia."
   ]
  },
  {
   "cell_type": "markdown",
   "id": "c3b2b0f3",
   "metadata": {},
   "source": [
    "### Wykres wykonanych obliczeń zmiennoprzecinkowych w zależności od wielkości macierzy `A`"
   ]
  },
  {
   "cell_type": "code",
   "execution_count": 68,
   "id": "c8fb2e62",
   "metadata": {},
   "outputs": [],
   "source": [
    "### kod generujący liczbę obliczeń zmiennoprzecinkowych\n",
    "\n",
    "def binet_rec_mat_mul_op_count(k: int, l: int) -> int:\n",
    "    if k == 0:\n",
    "        return 1  # multiplying matrices\n",
    "    \n",
    "    n =  2**(k-1)\n",
    "    rec_step_op_count = 2 * mat_mul_op_count(k-1, l) + n*n\n",
    "    \n",
    "    C11_op_count = rec_step_op_count\n",
    "    C12_op_count = rec_step_op_count\n",
    "    C21_op_count = rec_step_op_count\n",
    "    C22_op_count = rec_step_op_count\n",
    "    \n",
    "    return C11_op_count + C12_op_count + C21_op_count + C22_op_count\n",
    "    \n",
    "\n",
    "def strassen_mat_mul_op_count(k: int, l: int) -> int:\n",
    "    if k == 0:\n",
    "        return 1\n",
    "    \n",
    "    n = 2**(k-1)\n",
    "    \n",
    "    rec_step_op_count = mat_mul_op_count(k-1, l)\n",
    "    \n",
    "    M1_op_count = rec_step_op_count + 2*n*n\n",
    "    M2_op_count = rec_step_op_count + n*n\n",
    "    M3_op_count = rec_step_op_count + n*n\n",
    "    M4_op_count = rec_step_op_count + n*n\n",
    "    M5_op_count = rec_step_op_count + n*n\n",
    "    M6_op_count = rec_step_op_count + 2*n*n\n",
    "    M7_op_count = rec_step_op_count + 2*n*n\n",
    "    \n",
    "    C11_op_count = 3*n*n\n",
    "    C12_op_count = n*n\n",
    "    C21_op_count = n*n\n",
    "    C22_op_count = 3*n*n\n",
    "    \n",
    "    return C11_op_count + C12_op_count + C21_op_count + C22_op_count + M1_op_count + M2_op_count + M3_op_count + M4_op_count + M5_op_count + M6_op_count + M7_op_count\n"
   ]
  },
  {
   "cell_type": "code",
   "execution_count": 69,
   "id": "92fdf8b7",
   "metadata": {},
   "outputs": [],
   "source": [
    "def mat_mul_op_count(k: int, l: int) -> int:\n",
    "    if k <= l: \n",
    "        return binet_rec_mat_mul_op_count(k, l)\n",
    "    else: \n",
    "        return strassen_mat_mul_op_count(k, l)\n",
    "\n"
   ]
  },
  {
   "cell_type": "code",
   "execution_count": 70,
   "id": "02f931fd",
   "metadata": {},
   "outputs": [],
   "source": [
    "def inverse_op_count(k: int) -> int:\n",
    "    if k == 0:\n",
    "        return 0\n",
    "    \n",
    "    n = 2**(k-1)\n",
    "    \n",
    "    A11_inv_rec_step = inverse_op_count(k-1)\n",
    "    S22_count = n*n + 2*mat_mul_op_count(k-1, L)\n",
    "    S22_inv_rec_step = inverse_op_count(k-1)\n",
    "    \n",
    "    B11_count = n*n + 4*mat_mul_op_count(k-1, L)\n",
    "    B12_count = 2*mat_mul_op_count(k-1, L)\n",
    "    B21_count = 2*mat_mul_op_count(k-1, L)\n",
    "    \n",
    "    return A11_inv_rec_step + S22_count + S22_inv_rec_step + B11_count + B12_count + B21_count"
   ]
  },
  {
   "cell_type": "code",
   "execution_count": 71,
   "id": "9b1bacd5",
   "metadata": {},
   "outputs": [],
   "source": [
    "def LU_op_count(k: int) -> int:\n",
    "    if k == 0:\n",
    "        return 0\n",
    "    \n",
    "    n = 2**(k-1)\n",
    "    \n",
    "    LU11_rec_step = LU_op_count(k-1)\n",
    "\n",
    "    L11_inv_op_count = inverse_op_count(k-1)\n",
    "    U11_inv_op_count = inverse_op_count(k-1)\n",
    "    \n",
    "    L21_count = n*n\n",
    "    U12_count = n*n\n",
    "    \n",
    "    S_count = n + n*n + n*n + n*n\n",
    "    S_LU_count = LU_op_count(k-1)\n",
    "    \n",
    "    return LU11_rec_step + L11_inv_op_count + U11_inv_op_count + L21_count + U12_count + S_count + S_LU_count"
   ]
  },
  {
   "cell_type": "code",
   "execution_count": 72,
   "id": "6be92222",
   "metadata": {},
   "outputs": [],
   "source": [
    "k_values = range(2, 16)\n",
    "inverse_ops = np.array([LU_op_count(k) for k in k_values])\n",
    "\n",
    "def plot_ops_results(ops: np.array) -> None:    \n",
    "    x = k_values\n",
    "    x_axis = np.arange(len(x))\n",
    "    \n",
    "    plt.bar(x_axis, ops, 0.2)\n",
    "\n",
    "    plt.xticks(x_axis, x)\n",
    "    plt.xlabel(\"k (matrix size 2^k)\")\n",
    "    plt.ylabel(\"Number of operations in log scale\")\n",
    "    plt.yscale(\"log\")\n",
    "    plt.title(\"Number of floating point operations\")\n",
    "    plt.show()"
   ]
  },
  {
   "cell_type": "code",
   "execution_count": 73,
   "id": "3af6ad27",
   "metadata": {},
   "outputs": [
    {
     "data": {
      "image/png": "[encoded data removed]",
      "text/plain": [
       "<Figure size 1080x720 with 1 Axes>"
      ]
     },
     "metadata": {},
     "output_type": "display_data"
    }
   ],
   "source": [
    "plot_ops_results(inverse_ops.T)"
   ]
  },
  {
   "cell_type": "markdown",
   "id": "98775901",
   "metadata": {},
   "source": []
  },
  {
   "cell_type": "markdown",
   "id": "0ec72f8d",
   "metadata": {},
   "source": [
    "## Wnioski"
   ]
  },
  {
   "cell_type": "markdown",
   "id": "244f2eca",
   "metadata": {},
   "source": []
  },
  {
   "cell_type": "code",
   "execution_count": null,
   "id": "4fca756b",
   "metadata": {},
   "outputs": [],
   "source": []
  }
 ],
 "metadata": {
  "kernelspec": {
   "display_name": "Python 3",
   "language": "python",
   "name": "python3"
  },
  "language_info": {
   "codemirror_mode": {
    "name": "ipython",
    "version": 3
   },
   "file_extension": ".py",
   "mimetype": "text/x-python",
   "name": "python",
   "nbconvert_exporter": "python",
   "pygments_lexer": "ipython3",
   "version": "3.9.12"
  },
  "vscode": {
   "interpreter": {
    "hash": "e7dd7d799fd85d2c308cc938ab26e25bc5f505d9c44b38791067574ca33b6949"
   }
  }
 },
 "nbformat": 4,
 "nbformat_minor": 5
}
