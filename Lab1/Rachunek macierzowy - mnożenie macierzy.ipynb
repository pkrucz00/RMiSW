{
 "cells": [
  {
   "cell_type": "markdown",
   "id": "4a569735",
   "metadata": {},
   "source": [
    "# Rachunek macierzowy - mnożenie macierzy\n",
    "\n",
    "**Wykonali: Alicja Niewiadomska, Paweł Kruczkiewicz**\n"
   ]
  },
  {
   "cell_type": "code",
   "execution_count": 1,
   "id": "e1e316d1",
   "metadata": {},
   "outputs": [],
   "source": [
    "import numpy as np\n",
    "import matplotlib.pyplot as plt"
   ]
  },
  {
   "cell_type": "markdown",
   "id": "eccc327c",
   "metadata": {},
   "source": [
    "\n",
    "Wybrano temat nr 3, czyli *dla macierzy mniejszych lub równych 2^l x 2^l mnożenie rekurencyjne metodą Bineta, dla większych - Strassena*.\n",
    "\n",
    "\n",
    "Wybrane algorytmy macierzowe:\n",
    " 1. Mnożenie rekurencyjne metodą Bineta.\n",
    " 2. Mnożenie rekurencyjne metodą Strassena.\n",
    " "
   ]
  },
  {
   "attachments": {},
   "cell_type": "markdown",
   "id": "180c63e4",
   "metadata": {},
   "source": [
    "## Pseudokod rozwiązania\n",
    "\n",
    "Zakładamy, że dana macierz ma wymiary 2^k x 2^k.\n",
    "\n",
    "Dane: \n",
    "  - `A`, `B` - macierze kwadratowe o rozmiarze 2^k\n",
    "  - `k` - wyżej wspomniany wykładnik\n",
    "  - `l` - arbitralnie wybrana eksponenta wartości progowej dla danego algorytmu.\n",
    "  \n",
    "Wartość zwracana: \n",
    "   `C` - wynikowa macierz kwadratowa o rozmiarze 2^k\n",
    "```\n",
    "def mat_mul(A, B, k, l):\n",
    "    if l <= k:\n",
    "        return binet_rec_mat_mul(A, B, k, l)\n",
    "    else:\n",
    "        return strass_mat_mul(A, B, k, l)\n",
    "```"
   ]
  },
  {
   "attachments": {},
   "cell_type": "markdown",
   "id": "13192b09",
   "metadata": {},
   "source": [
    "## Kod algorytmu\n",
    "\n",
    "### Funkcje pomocnicze"
   ]
  },
  {
   "cell_type": "code",
   "execution_count": null,
   "id": "4ca9e07d",
   "metadata": {},
   "outputs": [],
   "source": [
    "def split_matrix_in_quarters(A: np.array):\n",
    "    half_i = A.shape[0] // 2\n",
    "    return  A[:half_i, :half_i], \\\n",
    "            A[:half_i, half_i:], \\\n",
    "            A[half_i:, :half_i],\\\n",
    "            A[half_i:, half_i:]\n",
    "            \n",
    "def join_matrices(A11, A12, A21, A22):\n",
    "    A1 = np.hstack((A11, A12))\n",
    "    A2 = np.hstack((A21, A22))\n",
    "    return np.vstack((A1, A2))"
   ]
  },
  {
   "attachments": {},
   "cell_type": "markdown",
   "id": "b49643ad",
   "metadata": {},
   "source": [
    "### Algorytm rekurencyjny Bineta"
   ]
  },
  {
   "cell_type": "code",
   "execution_count": 5,
   "id": "a59ee13f",
   "metadata": {},
   "outputs": [],
   "source": [
    "def binet_rec_mat_mul(A: np.array, B: np.array, k: int, l: int) -> np.array:\n",
    "    if k == 0:\n",
    "        return A*B\n",
    "    \n",
    "    rec_step = lambda A1, B1, A2, B2: mat_mul(A1, B1, k-1, l) + mat_mul(A2, B2, k-1, l)\n",
    "\n",
    "    A11, A12, A21, A22 = split_matrix_in_quarters(A)\n",
    "    B11, B12, B21, B22 = split_matrix_in_quarters(B)\n",
    "    \n",
    "    C11 = rec_step(A11, B11, A12, B21)\n",
    "    C12 = rec_step(A11, B12, A12, B22)\n",
    "    C21 = rec_step(A21, B11, A22, B21)\n",
    "    C22 = rec_step(A21, B12, A22, B22)\n",
    "    \n",
    "    return join_matrices(C11, C12, C21, C22)\n",
    "\n"
   ]
  },
  {
   "attachments": {},
   "cell_type": "markdown",
   "id": "124bf4e9",
   "metadata": {},
   "source": [
    "### Algorytm rekurencyjny Strassena"
   ]
  },
  {
   "cell_type": "code",
   "execution_count": null,
   "id": "db214ba0",
   "metadata": {},
   "outputs": [],
   "source": [
    "def strassen_mat_mul(A, B, k, l):\n",
    "    pass"
   ]
  },
  {
   "attachments": {},
   "cell_type": "markdown",
   "id": "006816f3",
   "metadata": {},
   "source": [
    "### Algorytm końcowy"
   ]
  },
  {
   "cell_type": "code",
   "execution_count": null,
   "id": "4a26f4da",
   "metadata": {},
   "outputs": [],
   "source": [
    "def mat_mul(A, B, k, l):\n",
    "    if l <= k:\n",
    "        return binet_rec_mat_mul(A, B, k, l)\n",
    "    else:\n",
    "        return strassen_mat_mul(A, B, k, l)"
   ]
  },
  {
   "cell_type": "markdown",
   "id": "50c0fcdf",
   "metadata": {},
   "source": [
    "## Wykresy\n",
    "Wybrane wielkości parametru `l`: 4, 6, 8\n",
    "### Wykres czasu mnożenia od wielkości macierzy"
   ]
  },
  {
   "cell_type": "code",
   "execution_count": 4,
   "id": "ef41dca5",
   "metadata": {},
   "outputs": [],
   "source": [
    "### kod generujący czas\n",
    "### kod wykresu"
   ]
  },
  {
   "cell_type": "markdown",
   "id": "c3b2b0f3",
   "metadata": {},
   "source": [
    "### Wykres wykonanych obliczeń zmiennoprzecinkowych w zależności od wielkości macierzy"
   ]
  },
  {
   "cell_type": "code",
   "execution_count": null,
   "id": "c8fb2e62",
   "metadata": {},
   "outputs": [],
   "source": [
    "### kod generujący liczbę obliczeń zmiennoprzecinkowych\n",
    "\n",
    "def binet_rec_mat_mul_op_count(k: int, l: int) -> np.array:\n",
    "    if k == 0:\n",
    "        return 1  # multiplying matrices\n",
    "     \n",
    "    rec_step = lambda: mat_mul_op_count(k-1, l) + mat_mul_op_count(k-1, l) + 1 # recursive step plus one addition\n",
    "    \n",
    "    C11_op_count = rec_step()\n",
    "    C12_op_count = rec_step()\n",
    "    C21_op_count = rec_step()\n",
    "    C22_op_count = rec_step()\n",
    "    \n",
    "    return C11_op_count + C12_op_count + C21_op_count + C22_op_count\n",
    "    \n",
    "\n",
    "### kod wykresu"
   ]
  },
  {
   "cell_type": "code",
   "execution_count": null,
   "id": "a7fcffb6",
   "metadata": {},
   "outputs": [],
   "source": []
  }
 ],
 "metadata": {
  "kernelspec": {
   "display_name": "venv",
   "language": "python",
   "name": "python3"
  },
  "language_info": {
   "codemirror_mode": {
    "name": "ipython",
    "version": 3
   },
   "file_extension": ".py",
   "mimetype": "text/x-python",
   "name": "python",
   "nbconvert_exporter": "python",
   "pygments_lexer": "ipython3",
   "version": "3.10.4"
  },
  "vscode": {
   "interpreter": {
    "hash": "e7dd7d799fd85d2c308cc938ab26e25bc5f505d9c44b38791067574ca33b6949"
   }
  }
 },
 "nbformat": 4,
 "nbformat_minor": 5
}
