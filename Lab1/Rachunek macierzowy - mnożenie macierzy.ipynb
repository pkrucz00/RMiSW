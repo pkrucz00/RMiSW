{
 "cells": [
  {
   "cell_type": "markdown",
   "id": "4a569735",
   "metadata": {},
   "source": [
    "# Rachunek macierzowy - mnożenie macierzy\n",
    "\n",
    "**Wykonali: Alicja Niewiadomska, Paweł Kruczkiewicz**\n"
   ]
  },
  {
   "cell_type": "code",
   "execution_count": null,
   "id": "e1e316d1",
   "metadata": {},
   "outputs": [],
   "source": [
    "import numpy as np\n",
    "import matplotlib.pyplot as plt\n",
    "import time"
   ]
  },
  {
   "cell_type": "markdown",
   "id": "eccc327c",
   "metadata": {},
   "source": [
    "\n",
    "Wybrano temat nr 3, czyli *dla macierzy mniejszych lub równych 2^l x 2^l mnożenie rekurencyjne metodą Bineta, dla większych - Strassena*.\n",
    "\n",
    "\n",
    "Wybrane algorytmy macierzowe:\n",
    " 1. Mnożenie rekurencyjne metodą Bineta.\n",
    " 2. Mnożenie rekurencyjne metodą Strassena.\n",
    " "
   ]
  },
  {
   "cell_type": "markdown",
   "id": "180c63e4",
   "metadata": {},
   "source": [
    "## Pseudokod rozwiązania\n",
    "\n",
    "Zakładamy, że dana macierz ma wymiary 2^k x 2^k.\n",
    "\n",
    "Dane: \n",
    "  - `A`, `B` - macierze kwadratowe o rozmiarze 2^k\n",
    "  - `k` - wyżej wspomniany wykładnik\n",
    "  - `l` - arbitralnie wybrana eksponenta wartości progowej dla danego algorytmu.\n",
    "  \n",
    "Wartość zwracana: \n",
    "   `C` - wynikowa macierz kwadratowa o rozmiarze 2^k\n",
    "```\n",
    "def mat_mul(A, B, k, l):\n",
    "    if l <= k:\n",
    "        return binet_rec_mat_mul(A, B, k, l)\n",
    "    else:\n",
    "        return strass_mat_mul(A, B, k, l)\n",
    "```"
   ]
  },
  {
   "cell_type": "markdown",
   "id": "13192b09",
   "metadata": {},
   "source": [
    "## Kod algorytmu\n",
    "\n",
    "### Funkcje pomocnicze"
   ]
  },
  {
   "cell_type": "code",
   "execution_count": null,
   "id": "4ca9e07d",
   "metadata": {},
   "outputs": [],
   "source": [
    "def split_matrix_in_quarters(A: np.array):\n",
    "    half_i = A.shape[0] // 2\n",
    "    return  A[:half_i, :half_i], \\\n",
    "            A[:half_i, half_i:], \\\n",
    "            A[half_i:, :half_i],\\\n",
    "            A[half_i:, half_i:]\n",
    "            \n",
    "def join_matrices(A11, A12, A21, A22):\n",
    "    A1 = np.hstack((A11, A12))\n",
    "    A2 = np.hstack((A21, A22))\n",
    "    return np.vstack((A1, A2))"
   ]
  },
  {
   "cell_type": "markdown",
   "id": "b49643ad",
   "metadata": {},
   "source": [
    "### Algorytm rekurencyjny Bineta"
   ]
  },
  {
   "cell_type": "code",
   "execution_count": null,
   "id": "a59ee13f",
   "metadata": {},
   "outputs": [],
   "source": [
    "def binet_rec_mat_mul(A: np.array, B: np.array, k: int, l: int) -> np.array:\n",
    "    if k == 0:\n",
    "        return A*B\n",
    "    \n",
    "    rec_step = lambda A1, B1, A2, B2: mat_mul(A1, B1, k-1, l) + mat_mul(A2, B2, k-1, l)\n",
    "\n",
    "    A11, A12, A21, A22 = split_matrix_in_quarters(A)\n",
    "    B11, B12, B21, B22 = split_matrix_in_quarters(B)\n",
    "    \n",
    "    C11 = rec_step(A11, B11, A12, B21)\n",
    "    C12 = rec_step(A11, B12, A12, B22)\n",
    "    C21 = rec_step(A21, B11, A22, B21)\n",
    "    C22 = rec_step(A21, B12, A22, B22)\n",
    "    \n",
    "    return join_matrices(C11, C12, C21, C22)"
   ]
  },
  {
   "cell_type": "markdown",
   "id": "124bf4e9",
   "metadata": {},
   "source": [
    "### Algorytm rekurencyjny Strassena"
   ]
  },
  {
   "cell_type": "code",
   "execution_count": null,
   "id": "db214ba0",
   "metadata": {},
   "outputs": [],
   "source": [
    "def strassen_mat_mul(A: np.array, B: np.array, k: int, l: int) -> np.array:    \n",
    "    if k == 0:\n",
    "        return A*B\n",
    "    \n",
    "    rec_step = lambda A1, B1: mat_mul(A1, B1, k-1, l)\n",
    "\n",
    "    A11, A12, A21, A22 = split_matrix_in_quarters(A)\n",
    "    B11, B12, B21, B22 = split_matrix_in_quarters(B)\n",
    "\n",
    "    M1 = rec_step(A11 + A22, B11 + B22)\n",
    "    M2 = rec_step(A21 + A22, B11)\n",
    "    M3 = rec_step(A11, B12 - B22)\n",
    "    M4 = rec_step(A22, B21 - B11)\n",
    "    M5 = rec_step(A11 + A12, B22)\n",
    "    M6 = rec_step(A21 - A11, B11 + B12)\n",
    "    M7 = rec_step(A12 - A22, B21 + B22)\n",
    "\n",
    "    C11 = M1 + M4 - M5 + M7\n",
    "    C12 = M3 + M5\n",
    "    C21 = M2 + M4\n",
    "    C22 = M1 - M2 + M3 + M6\n",
    "    \n",
    "    return join_matrices(C11, C12, C21, C22)"
   ]
  },
  {
   "cell_type": "markdown",
   "id": "006816f3",
   "metadata": {},
   "source": [
    "### Algorytm końcowy"
   ]
  },
  {
   "cell_type": "code",
   "execution_count": null,
   "id": "4a26f4da",
   "metadata": {},
   "outputs": [],
   "source": [
    "def mat_mul(A, B, k, l):\n",
    "    if l <= k:\n",
    "        return binet_rec_mat_mul(A, B, k, l)\n",
    "    else:\n",
    "        return strassen_mat_mul(A, B, k, l)"
   ]
  },
  {
   "cell_type": "markdown",
   "id": "50c0fcdf",
   "metadata": {},
   "source": [
    "## Wykresy\n",
    "Wybrane wielkości parametru `l`: 4, 6, 8"
   ]
  },
  {
   "cell_type": "code",
   "execution_count": null,
   "id": "adfc66cd",
   "metadata": {},
   "outputs": [],
   "source": [
    "plt.rcParams[\"figure.figsize\"] = [15, 10]\n",
    "plt.rcParams['font.size'] = 24\n",
    "plt.style.use('fivethirtyeight')"
   ]
  },
  {
   "cell_type": "markdown",
   "id": "da1e0d1c",
   "metadata": {},
   "source": [
    "### Wykres czasu mnożenia od wielkości macierzy"
   ]
  },
  {
   "cell_type": "code",
   "execution_count": null,
   "id": "ef41dca5",
   "metadata": {},
   "outputs": [],
   "source": [
    "k_values = np.arange(2, 7)\n",
    "l_values = np.arange(2, 7, 2)\n",
    "num_range = 100\n",
    "\n",
    "### kod generujący czas\n",
    "\n",
    "def measure_mat_mul_time() -> np.array:\n",
    "    times = []\n",
    "\n",
    "    for i, k in enumerate(k_values):\n",
    "        times.append([])\n",
    "        for j, l in enumerate(l_values):\n",
    "            size = 2**k\n",
    "            A = np.random.randint(0, num_range, (size, size))\n",
    "            B = np.random.randint(0, num_range, (size, size))\n",
    "            print(\"Measuring: k=\", k, \" l=\", l)\n",
    "            \n",
    "            # Multiplication time is too small for these\n",
    "            if k < 4:\n",
    "                it = 100\n",
    "                start = time.time()\n",
    "                for _ in range(it):\n",
    "                    mat_mul(A, B, k, l)\n",
    "                end = time.time()\n",
    "                res = (end-start)/it\n",
    "            else:\n",
    "                start = time.time()\n",
    "                mat_mul(A, B, k, l)\n",
    "                end = time.time()\n",
    "                res = end-start\n",
    "\n",
    "            times[i].append(res)\n",
    "    return np.array(times)\n",
    "\n",
    "### kod wykresu\n",
    "\n",
    "def plot_time_results(times: np.array) -> None:\n",
    "    x = k_values\n",
    "    x_axis = np.arange(len(x))\n",
    "    \n",
    "    for i, l in enumerate(l_values):\n",
    "        plt.bar(x_axis + 0.1*i, times[i], 0.1, label=l)\n",
    "\n",
    "    plt.xticks(x_axis, x)\n",
    "    plt.xlabel(\"k (matrix size 2^k)\")\n",
    "    plt.ylabel(\"Time in log scale [s]\")\n",
    "    plt.yscale(\"log\")\n",
    "    plt.title(\"Matrices multiplication performance\")\n",
    "    plt.legend(title=\"Parameter l\")\n",
    "    plt.show()"
   ]
  },
  {
   "cell_type": "code",
   "execution_count": null,
   "id": "ea9b95b8",
   "metadata": {},
   "outputs": [],
   "source": [
    "times = measure_mat_mul_time()\n",
    "plot_time_results(times.T)"
   ]
  },
  {
   "cell_type": "markdown",
   "id": "c3b2b0f3",
   "metadata": {},
   "source": [
    "### Wykres wykonanych obliczeń zmiennoprzecinkowych w zależności od wielkości macierzy"
   ]
  },
  {
   "cell_type": "code",
   "execution_count": null,
   "id": "c8fb2e62",
   "metadata": {},
   "outputs": [],
   "source": [
    "### kod generujący liczbę obliczeń zmiennoprzecinkowych\n",
    "\n",
    "def binet_rec_mat_mul_op_count(k: int, l: int) -> np.array:\n",
    "    if k == 0:\n",
    "        return 1  # multiplying matrices\n",
    "     \n",
    "    rec_step = lambda: mat_mul_op_count(k-1, l) + mat_mul_op_count(k-1, l) + 1 # recursive step plus one addition\n",
    "    \n",
    "    C11_op_count = rec_step()\n",
    "    C12_op_count = rec_step()\n",
    "    C21_op_count = rec_step()\n",
    "    C22_op_count = rec_step()\n",
    "    \n",
    "    return C11_op_count + C12_op_count + C21_op_count + C22_op_count\n",
    "    \n",
    "\n",
    "### kod wykresu"
   ]
  },
  {
   "cell_type": "code",
   "execution_count": null,
   "id": "92fdf8b7",
   "metadata": {},
   "outputs": [],
   "source": []
  }
 ],
 "metadata": {
  "kernelspec": {
   "display_name": "Python 3",
   "language": "python",
   "name": "python3"
  },
  "language_info": {
   "codemirror_mode": {
    "name": "ipython",
    "version": 3
   },
   "file_extension": ".py",
   "mimetype": "text/x-python",
   "name": "python",
   "nbconvert_exporter": "python",
   "pygments_lexer": "ipython3",
   "version": "3.9.12"
  },
  "vscode": {
   "interpreter": {
    "hash": "e7dd7d799fd85d2c308cc938ab26e25bc5f505d9c44b38791067574ca33b6949"
   }
  }
 },
 "nbformat": 4,
 "nbformat_minor": 5
}
